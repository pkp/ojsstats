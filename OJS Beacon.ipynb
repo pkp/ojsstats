{
 "cells": [
  {
   "cell_type": "code",
   "execution_count": 32,
   "metadata": {},
   "outputs": [],
   "source": [
    "import pandas as pd\n",
    "\n",
    "import re\n",
    "import os\n",
    "import urllib\n",
    "import requests\n",
    "import sqlite3 as lite\n",
    "from xml.etree import ElementTree as ET\n",
    "\n",
    "from oaipmh.client import Client\n",
    "from oaipmh.metadata import MetadataRegistry, oai_dc_reader\n",
    "\n",
    "from tqdm.notebook import tqdm"
   ]
  },
  {
   "cell_type": "code",
   "execution_count": 13,
   "metadata": {},
   "outputs": [],
   "source": [
    "def domain_filter(url):\n",
    "    ''' Don't consider domains that are IP addresses or are 'localhost'\n",
    "        Consider also filtering things with 'demo' or 'test'\n",
    "    '''\n",
    "    \n",
    "    domain = urllib.parse.urlparse(url).netloc\n",
    "    if 'localhost' in domain: \n",
    "        return False\n",
    "    if domain.replace('.', '').replace(':', '').isnumeric() == True:\n",
    "        return False\n",
    "    return True"
   ]
  },
  {
   "cell_type": "code",
   "execution_count": 14,
   "metadata": {},
   "outputs": [],
   "source": [
    "def find_oai_endpoint(url):\n",
    "    ''' Finds an OAI endpoint given a base OJS-install URL '''    \n",
    "    url = url.strip(\"/\")\n",
    "    verb_param = {'verb': 'Identify'}\n",
    "    urls_to_try = []  # all the combinations of possible OAI URLs, given the base url\n",
    "    urls_to_try.append(url + \"/index.php/index/oai\")\n",
    "    urls_to_try.append(url + \"/index/oai\")\n",
    "    urls_to_try.append(url + \"/index.php?page=oai\")\n",
    "    urls_to_try.append(url + \"?page=oai\")\n",
    "\n",
    "    for url_to_try in urls_to_try:\n",
    "        try:\n",
    "            request = requests.get(url_to_try, params=verb_param)\n",
    "            if request.status_code == 200 and request.headers['Content-Type'].startswith('text/xml'): \n",
    "                # take out the verb parameter before returning\n",
    "                return request.url.replace('verb=Identify', '').strip('&?')\n",
    "        except:\n",
    "            continue # move on to next URL\n",
    "            \n",
    "    return False"
   ]
  },
  {
   "cell_type": "code",
   "execution_count": null,
   "metadata": {},
   "outputs": [],
   "source": [
    "oai_registry = MetadataRegistry()\n",
    "oai_registry.registerReader('oai_dc', oai_dc_reader)\n",
    "\n",
    "def get_oai_identity(oai_url):\n",
    "    ''' Finds an OAI repository identity given an OAI URL '''\n",
    "    try:\n",
    "        client = Client(oai_url, oai_registry)\n",
    "        identity = client.identify()\n",
    "        return identity\n",
    "    except Exception as err:\n",
    "        if err.code in [404, 500]: # Might need to expand this list? \n",
    "            print(err)\n",
    "        # some other error, but probably still OK to ignore?\n",
    "        raise \n",
    "\n",
    "    return False"
   ]
  },
  {
   "cell_type": "code",
   "execution_count": 20,
   "metadata": {},
   "outputs": [],
   "source": [
    "ojs_in_logs = pd.read_csv('data/2020/ojs_in_logs.csv')\n",
    "ojs_in_logs = ojs_in_logs[ojs_in_logs.base_url.map(domain_filter)]\n",
    "    "
   ]
  },
  {
   "cell_type": "code",
   "execution_count": 19,
   "metadata": {},
   "outputs": [
    {
     "name": "stdout",
     "output_type": "stream",
     "text": [
      "http://publikationen.soziologie.de\n",
      "['http://publikationen.soziologie.de/index.php/index/oai', 'http://publikationen.soziologie.de/index/oai', 'http://publikationen.soziologie.de/index.php?page=oai', 'http://publikationen.soziologie.de?page=oai']\n"
     ]
    }
   ],
   "source": [
    "# url = ojs_in_logs.sample().iloc[0].base_url\n",
    "print(url)\n",
    "url = url.strip(\"/\")\n",
    "verb_param = {'verb': 'Identify'}\n",
    "urls_to_try = []  # all the combinations of possible OAI URLs, given the base url\n",
    "urls_to_try.append(url + \"/index.php/index/oai\")\n",
    "urls_to_try.append(url + \"/index/oai\")\n",
    "urls_to_try.append(url + \"/index.php?page=oai\")\n",
    "urls_to_try.append(url + \"?page=oai\")\n",
    "print(urls_to_try)"
   ]
  },
  {
   "cell_type": "code",
   "execution_count": 6,
   "metadata": {},
   "outputs": [],
   "source": [
    "oai_in_logs = pd.read_csv('data/ojs_in_logs_urlmap.csv')"
   ]
  },
  {
   "cell_type": "code",
   "execution_count": null,
   "metadata": {},
   "outputs": [],
   "source": [
    "print(identity.adminEmails())\n",
    "print(identity.earliestDatestamp())\n",
    "print(identity.repositoryName())"
   ]
  },
  {
   "cell_type": "code",
   "execution_count": 21,
   "metadata": {},
   "outputs": [],
   "source": [
    "ojs_in_db = pd.read_csv('data/2020/ojs_in_db.csv')\n",
    "ojs_in_db.loc[:,'oai_url'] = ojs_in_db.oai_url.map(lambda x: x.replace(\"verb=identify\", \"\").strip('&?'))"
   ]
  },
  {
   "cell_type": "markdown",
   "metadata": {},
   "source": [
    "command to get OAI urls from tracker\n",
    "\n",
    "    cat *log | sed -En \"s/^.*\\[(.*) -0700\\].*ojs-version\\.xml\\?id=([^&]+)&oai=([^ ]+).*$/\\1,\\2,\\3/gp\" | sort | uniq > urls_in_tracker.csv"
   ]
  },
  {
   "cell_type": "code",
   "execution_count": null,
   "metadata": {},
   "outputs": [],
   "source": [
    "ojs_in_db[ojs_in_db.oai_url.str.contains('page=oai')].sample(10)"
   ]
  },
  {
   "cell_type": "code",
   "execution_count": 55,
   "metadata": {},
   "outputs": [],
   "source": [
    "ojs_in_tracker = pd.read_csv('data/2020/logs/urls_in_tracker.csv', header=None)\n",
    "ojs_in_tracker.columns = ['datetime', 'id', 'oai_url']\n",
    "ojs_in_tracker.loc[:,'datetime'] = pd.to_datetime(ojs_in_tracker.datetime.map(lambda x: x.replace('2020:', '2020 ')))\n",
    "\n",
    "ojs_in_tracker.loc[:,'oai_url'] = ojs_in_tracker.oai_url.map(lambda x: urllib.parse.unquote(x))\n",
    "ojs_in_tracker.loc[:,'oai_url'] = ojs_in_tracker.oai_url.map(lambda x: 'http:' + x if x.startswith('//') else x)\n",
    "\n",
    "ojs_in_tracker = ojs_in_tracker[ojs_in_tracker.oai_url.map(domain_filter)]\n",
    "\n",
    "ojs_in_tracker = ojs_in_tracker.loc[ojs_in_tracker.groupby('oai_url')[\"datetime\"].idxmax()]"
   ]
  },
  {
   "cell_type": "code",
   "execution_count": 59,
   "metadata": {},
   "outputs": [],
   "source": [
    "ojs_in_tracker.to_csv('data/2020/ids_in_tracker.csv', index=False)"
   ]
  },
  {
   "cell_type": "code",
   "execution_count": 24,
   "metadata": {},
   "outputs": [],
   "source": [
    "ojs_in_logs = pd.read_csv('data/foundurls.txt')"
   ]
  },
  {
   "cell_type": "code",
   "execution_count": 27,
   "metadata": {},
   "outputs": [],
   "source": [
    "oai_urls = list(set(ojs_in_db.oai_url).union(ojs_in_tracker.oai_url).union(ojs_in_logs.oai_url))"
   ]
  },
  {
   "cell_type": "code",
   "execution_count": 36,
   "metadata": {},
   "outputs": [],
   "source": [
    "ADMIN_RE = re.compile(r'<adminEmail>([^<]+)<')\n",
    "REPO_RE = re.compile(r'<repositoryName>([^<]+)<')\n",
    "TIME_RE = re.compile(r'<earliestDatestamp>([^<]+)<')\n",
    "\n",
    "# res.text\n",
    "\n",
    "m = ADMIN_RE.search(res.text)"
   ]
  },
  {
   "cell_type": "code",
   "execution_count": 111,
   "metadata": {},
   "outputs": [],
   "source": [
    "ojs_in_tracker = pd.read_csv('data/2020/ids_in_tracker.csv')\n",
    "ojs_in_tracker.set_index('oai_url', inplace=True)\n",
    "ojs_in_tracker.columns = ['date_in_beacon', 'beacon_id']\n",
    "ojs_in_db.loc[:,'date_in_beacon'] = pd.to_datetime(df.date_in_beacon)\n",
    "ojs_in_tracker.beacon_id.fillna('', inplace=True)\n",
    "\n",
    "df = pd.read_csv('data/foundoai.txt')\n",
    "df.set_index('oai_url', inplace=True)\n",
    "df.fillna('', inplace=True)\n",
    "df.loc[:,'makeshift_id'] = df[['contact', 'name', 'time']].apply(lambda row: ';'.join(row), axis=1)"
   ]
  },
  {
   "cell_type": "code",
   "execution_count": 112,
   "metadata": {},
   "outputs": [],
   "source": [
    "df = df.join(ojs_in_tracker)\n",
    "df.reset_index(inplace=True)"
   ]
  },
  {
   "cell_type": "code",
   "execution_count": 113,
   "metadata": {},
   "outputs": [],
   "source": [
    "df.sort_values('date_in_beacon', inplace=True)\n",
    "df = df.groupby('makeshift_id').last()"
   ]
  },
  {
   "cell_type": "code",
   "execution_count": 116,
   "metadata": {},
   "outputs": [
    {
     "data": {
      "text/plain": [
       "beacon_id\n",
       "5bff9aaebf90f    23\n",
       "5eb26e02d9a0d    17\n",
       "5677dacb07cbc    11\n",
       "56e10670c3cbb    10\n",
       "56519a9433bcc     9\n",
       "5e59e9f73316e     8\n",
       "5d19cdac5c693     7\n",
       "53d674dc81834     6\n",
       "542e3039b0c19     6\n",
       "5c4b18fece111     6\n",
       "dtype: int64"
      ]
     },
     "execution_count": 116,
     "metadata": {},
     "output_type": "execute_result"
    }
   ],
   "source": [
    "df.groupby('beacon_id').size().nlargest(10)"
   ]
  }
 ],
 "metadata": {
  "kernelspec": {
   "display_name": "Python 3",
   "language": "python",
   "name": "python3"
  },
  "language_info": {
   "codemirror_mode": {
    "name": "ipython",
    "version": 3
   },
   "file_extension": ".py",
   "mimetype": "text/x-python",
   "name": "python",
   "nbconvert_exporter": "python",
   "pygments_lexer": "ipython3",
   "version": "3.8.5"
  }
 },
 "nbformat": 4,
 "nbformat_minor": 4
}
